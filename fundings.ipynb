{
 "cells": [
  {
   "cell_type": "code",
   "execution_count": 47,
   "id": "71495f99-8cbc-478a-a6ec-9d21f59584ee",
   "metadata": {},
   "outputs": [],
   "source": [
    "import os\n",
    "_dir = 'Institutional Finances/'\n",
    "path = [_dir + d for d in os.listdir(_dir)]"
   ]
  },
  {
   "cell_type": "code",
   "execution_count": 48,
   "id": "45a608b7-0a12-4eea-94bc-ac9877d87c2c",
   "metadata": {},
   "outputs": [
    {
     "data": {
      "text/plain": [
       "['Institutional Finances/F_F1A_1415-1920_data.csv',\n",
       " 'Institutional Finances/F_F1A_1415-1920_data_descriptions.xlsx',\n",
       " 'Institutional Finances/F_F2_1415-1920_data.csv',\n",
       " 'Institutional Finances/F_F2_1415-1920_data_descriptions.xlsx',\n",
       " 'Institutional Finances/F_F3_1415-1920_data.csv',\n",
       " 'Institutional Finances/F_F3_1415-1920_data_descriptions.xlsx']"
      ]
     },
     "execution_count": 48,
     "metadata": {},
     "output_type": "execute_result"
    }
   ],
   "source": [
    "path"
   ]
  },
  {
   "cell_type": "code",
   "execution_count": 49,
   "id": "f006222f-a9a3-467b-8153-b43e05892b3a",
   "metadata": {},
   "outputs": [],
   "source": [
    "import pandas as pd\n",
    "import warnings \n",
    "warnings.filterwarnings (\"ignore\")\n",
    "F_F1A = pd.read_csv(path[0])\n",
    "F_F1A_descp = pd.read_excel(path[1],engine='openpyxl')\n",
    "F_F2A = pd.read_csv(path[2])\n",
    "F_F2A_descp = pd.read_excel(path[3],engine='openpyxl')\n",
    "F_F3A = pd.read_csv(path[4])\n",
    "F_F3A_descp = pd.read_excel(path[5],engine='openpyxl')"
   ]
  },
  {
   "cell_type": "code",
   "execution_count": 50,
   "id": "db7664db-b501-489d-8cc8-4c4c34f78e17",
   "metadata": {
    "tags": []
   },
   "outputs": [],
   "source": [
    "column_of_interest = ['Instruction - Current year total','Research - Current year total',\n",
    "                     'Public service - Current year total','Academic support - Current year total',\n",
    "                     'Student services - Current year total','Institutional support - Current year total',\n",
    "                     'Operation  maintenance of plant - Current year total','Scholarships and fellowships expenses -- Current year total',\n",
    "                     'Total expenses  deductions - Current year total','Other expenses  deductions - Current year total',\n",
    "                     'Independent operations - Current year total','Hospital services - Current year total',\n",
    "                     'Auxiliary enterprises -- Current year total','Total assets','Intangible assets , net of accumulated amortization - Ending balance']\n",
    "id_of_interest = [F_F1A_descp.loc[F_F1A_descp.shortDescription == name,'varname'].iloc[0].lower() for name in column_of_interest]"
   ]
  },
  {
   "cell_type": "code",
   "execution_count": 51,
   "id": "ec4c4667-ca9a-468f-8976-c843636913e2",
   "metadata": {},
   "outputs": [
    {
     "name": "stdout",
     "output_type": "stream",
     "text": [
      "f1c011: Instruction - Current year total\n",
      "f1c021: Research - Current year total\n",
      "f1c031: Public service - Current year total\n",
      "f1c051: Academic support - Current year total\n",
      "f1c061: Student services - Current year total\n",
      "f1c071: Institutional support - Current year total\n",
      "f1c081: Operation  maintenance of plant - Current year total\n",
      "f1c101: Scholarships and fellowships expenses -- Current year total\n",
      "f1c191: Total expenses  deductions - Current year total\n",
      "f1c141: Other expenses  deductions - Current year total\n",
      "f1c131: Independent operations - Current year total\n",
      "f1c121: Hospital services - Current year total\n",
      "f1c111: Auxiliary enterprises -- Current year total\n",
      "f1a06: Total assets\n",
      "f1a334: Intangible assets , net of accumulated amortization - Ending balance\n"
     ]
    }
   ],
   "source": [
    "for a,b in zip(id_of_interest,column_of_interest):\n",
    "    print(f'{a}: {b}')"
   ]
  },
  {
   "cell_type": "code",
   "execution_count": 52,
   "id": "69fee688-efa3-468b-adbc-def435a00312",
   "metadata": {},
   "outputs": [],
   "source": [
    "df_F_F1A = F_F1A[['unitid','year']+ id_of_interest]\n",
    "df_F_F1A = df_F_F1A.fillna(0)\n",
    "df_F_F1A['total_expense'] = df_F_F1A.f1c191\n",
    "df_F_F1A['research_prop_funding'] = df_F_F1A.f1c021/df_F_F1A.total_expense\n",
    "df_F_F1A['intangigle_assets_prop'] = df_F_F1A.f1a334/df_F_F1A.f1a06\n",
    "df_F_F1A['scholarship_prop'] = df_F_F1A.f1c101/df_F_F1A.total_expense\n",
    "df_F_F1A['academic_prop_funding'] = df_F_F1A.f1c051/df_F_F1A.total_expense"
   ]
  },
  {
   "cell_type": "code",
   "execution_count": 53,
   "id": "52425361-6556-4cd4-afe3-a8a554b22c0d",
   "metadata": {},
   "outputs": [],
   "source": [
    "column_of_interest2 = ['Total assets','Intangible Assets, net of accumulated amortization','Instruction-Total amount',\n",
    "                       'Research-Total amount','Public service-Total amount','Academic support-Total amount','Student service-Total amount','Institutional support-Total amount',\n",
    "                      'Auxiliary enterprises-Total amount','Net grant aid to students-Total amount','Hospital services-Total amount','Independent operations-Total Amount',\n",
    "                      'Operation and maintenance of plant-Total amount','Other expenses-Total amount','Total expenses-Total amount']\n",
    "column_of_interest3 = ['Total assets','Intangible assets, net of accumulated amortization','Instruction-Total amount',\n",
    "                       'Research-Total amount','Public service-Total amount','Academic support-Total amount','Student service-Total amount','Institutional support-Total amount',\n",
    "                      'Auxiliary enterprises-Total amount','Net grant aid to students-Total amount','Hospital services-Total amount',\n",
    "                      'Operation and maintenance of plant-Total amount','Other expenses-Total amount','Total expenses-Total amount']\n",
    "id_of_interest2 = [F_F2A_descp.loc[F_F2A_descp.shortDescription == name,'varname'].iloc[0].lower() for name in column_of_interest2]\n",
    "id_of_interest3 = [F_F3A_descp.loc[F_F3A_descp.shortDescription == name,'varname'].iloc[0].lower() for name in column_of_interest3]"
   ]
  },
  {
   "cell_type": "code",
   "execution_count": 39,
   "id": "ca61576b-a1ab-4019-ab03-9923e2501915",
   "metadata": {},
   "outputs": [
    {
     "name": "stdout",
     "output_type": "stream",
     "text": [
      "f2a02: Total assets\n",
      "f2a20: Intangible Assets, net of accumulated amortization\n",
      "f2e011: Instruction-Total amount\n",
      "f2e021: Research-Total amount\n",
      "f2e031: Public service-Total amount\n",
      "f2e041: Academic support-Total amount\n",
      "f2e051: Student service-Total amount\n",
      "f2e061: Institutional support-Total amount\n",
      "f2e071: Auxiliary enterprises-Total amount\n",
      "f2e081: Net grant aid to students-Total amount\n",
      "f2e091: Hospital services-Total amount\n",
      "f2e101: Independent operations-Total Amount\n",
      "f2e111: Operation and maintenance of plant-Total amount\n",
      "f2e121: Other expenses-Total amount\n",
      "f2e131: Total expenses-Total amount\n"
     ]
    }
   ],
   "source": [
    "for a,b in zip(column_of_interest2,id_of_interest2):\n",
    "    print(f'{b}: {a}')"
   ]
  },
  {
   "cell_type": "code",
   "execution_count": 54,
   "id": "93f6ca58-6bd0-4d80-ba56-ab4507bab777",
   "metadata": {},
   "outputs": [],
   "source": [
    "df_F_F2A = F_F2A[['unitid','year']+id_of_interest2]\n",
    "df_F_F2A = df_F_F2A.fillna(0)\n",
    "df_F_F2A['total_expense'] = df_F_F2A.f2e131\n",
    "df_F_F2A['research_prop_funding'] = df_F_F2A.f2e021/df_F_F2A.total_expense\n",
    "df_F_F2A['intangigle_assets_prop'] = df_F_F2A.f2a20/df_F_F2A.f2a02\n",
    "df_F_F2A['scholarship_prop'] = df_F_F2A.f2e081/df_F_F2A.total_expense\n",
    "df_F_F2A['academic_prop_funding'] = df_F_F2A.f2e041/df_F_F2A.total_expense\n",
    "#df_F_F2A_final['research_rank'] = df_F_F2A_final.groupby(['year'])['research_prop'].rank('dense', ascending=False)\n",
    "#df_F_F2A_final['scholarship_rank'] = df_F_F2A_final.groupby(['year'])['scholarship_prop'].rank('dense', ascending=False)"
   ]
  },
  {
   "cell_type": "code",
   "execution_count": 41,
   "id": "7035adbe-7f7b-43b2-b803-d0d1fe5e7062",
   "metadata": {},
   "outputs": [
    {
     "name": "stdout",
     "output_type": "stream",
     "text": [
      "f3a01: Total assets\n",
      "f3a01c: Intangible assets, net of accumulated amortization\n",
      "f3e011: Instruction-Total amount\n",
      "f3e02a1: Research-Total amount\n",
      "f3e02b1: Public service-Total amount\n",
      "f3e03a1: Academic support-Total amount\n",
      "f3e03b1: Student service-Total amount\n",
      "f3e03c1: Institutional support-Total amount\n",
      "f3e041: Auxiliary enterprises-Total amount\n",
      "f3e051: Net grant aid to students-Total amount\n",
      "f3e101: Hospital services-Total amount\n",
      "f3e111: Operation and maintenance of plant-Total amount\n",
      "f3e061: Other expenses-Total amount\n",
      "f3e071: Total expenses-Total amount\n"
     ]
    }
   ],
   "source": [
    "for a,b in zip(column_of_interest3,id_of_interest3):\n",
    "    print(f'{b}: {a}')"
   ]
  },
  {
   "cell_type": "code",
   "execution_count": 55,
   "id": "d471e66f-c411-427d-a99f-3bbee55d27c7",
   "metadata": {},
   "outputs": [],
   "source": [
    "df_F_F3A = F_F3A[['unitid','year']+id_of_interest3]\n",
    "df_F_F3A = df_F_F3A.fillna(0)\n",
    "df_F_F3A['total_expense'] = df_F_F3A.f3e071\n",
    "df_F_F3A['research_prop_funding'] = df_F_F3A.f3e02a1/df_F_F3A.total_expense\n",
    "df_F_F3A['intangigle_assets_prop'] = df_F_F3A.f3a01c/df_F_F3A.f3a01\n",
    "df_F_F3A['scholarship_prop'] = df_F_F3A.f3e051/df_F_F3A.total_expense\n",
    "df_F_F3A['academic_prop_funding'] = df_F_F3A.f3e03a1/df_F_F3A.total_expense"
   ]
  },
  {
   "cell_type": "code",
   "execution_count": 56,
   "id": "27356fd0-0592-4def-803d-42ba4e2af91e",
   "metadata": {},
   "outputs": [],
   "source": [
    "df_F_F1A = df_F_F1A[['year','unitid','research_prop_funding','intangigle_assets_prop','scholarship_prop','academic_prop_funding']]\n",
    "df_F_F2A = df_F_F2A[['year','unitid','research_prop_funding','intangigle_assets_prop','scholarship_prop','academic_prop_funding']]\n",
    "df_F_F3A = df_F_F3A[['year','unitid','research_prop_funding','intangigle_assets_prop','scholarship_prop','academic_prop_funding']]"
   ]
  },
  {
   "cell_type": "code",
   "execution_count": 57,
   "id": "3a7183be-6e4a-4388-8bec-5afa4c8c2ad3",
   "metadata": {},
   "outputs": [],
   "source": [
    "df_funding = df_F_F1A.append(df_F_F2A).append(df_F_F3A)"
   ]
  },
  {
   "cell_type": "code",
   "execution_count": 59,
   "id": "b47c84b0-e8b9-464e-a6e3-7f40d61ecfb2",
   "metadata": {},
   "outputs": [
    {
     "name": "stdout",
     "output_type": "stream",
     "text": [
      "(11824, 6) (11198, 6) (15352, 6)\n"
     ]
    }
   ],
   "source": [
    "print(df_F_F1A.shape,df_F_F2A.shape,df_F_F3A.shape)"
   ]
  },
  {
   "cell_type": "code",
   "execution_count": 58,
   "id": "5c0dac25-2a21-44ed-9d89-da8568f931dc",
   "metadata": {},
   "outputs": [
    {
     "data": {
      "text/plain": [
       "(38374, 6)"
      ]
     },
     "execution_count": 58,
     "metadata": {},
     "output_type": "execute_result"
    }
   ],
   "source": [
    "df_funding.shape"
   ]
  },
  {
   "cell_type": "code",
   "execution_count": 62,
   "id": "6a2e134b-2352-4785-8f2a-0439c52b4db1",
   "metadata": {},
   "outputs": [],
   "source": [
    "df_funding.to_csv('df_funding.csv',index = False)"
   ]
  }
 ],
 "metadata": {
  "kernelspec": {
   "display_name": "ML",
   "language": "python",
   "name": "ml"
  },
  "language_info": {
   "codemirror_mode": {
    "name": "ipython",
    "version": 3
   },
   "file_extension": ".py",
   "mimetype": "text/x-python",
   "name": "python",
   "nbconvert_exporter": "python",
   "pygments_lexer": "ipython3",
   "version": "3.6.13"
  }
 },
 "nbformat": 4,
 "nbformat_minor": 5
}
