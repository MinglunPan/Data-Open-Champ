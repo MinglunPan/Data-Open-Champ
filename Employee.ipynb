{
 "cells": [
  {
   "cell_type": "code",
   "execution_count": 2,
   "id": "b3b2a50a-6338-4dfd-a5e7-da4ed5972484",
   "metadata": {},
   "outputs": [],
   "source": [
    "import os\n",
    "_dir = 'Employees by Assigned Position/'\n",
    "path = [_dir + d for d in os.listdir(_dir)]\n",
    "_dir2 = '12-Month Enrollment/'\n",
    "path2 = [_dir2 + d for d in os.listdir(_dir2)]"
   ]
  },
  {
   "cell_type": "code",
   "execution_count": 4,
   "id": "b7a8b192-25be-466c-8ea9-ef26fa698879",
   "metadata": {},
   "outputs": [],
   "source": [
    "import pandas as pd\n",
    "EAP = pd.read_csv(path[0])\n",
    "EAP_descp = pd.read_excel(path[1],engine='openpyxl')"
   ]
  },
  {
   "cell_type": "markdown",
   "id": "3161b635-0fd6-471e-b2fa-e33e8dca7cfe",
   "metadata": {},
   "source": [
    "## General-wise Employee per enrolled students"
   ]
  },
  {
   "cell_type": "code",
   "execution_count": 5,
   "id": "2d6fd661-e932-4899-a4ca-7246880d6c7d",
   "metadata": {},
   "outputs": [
    {
     "name": "stderr",
     "output_type": "stream",
     "text": [
      "C:\\Users\\cb102\\anaconda3\\envs\\ML\\lib\\site-packages\\IPython\\core\\interactiveshell.py:3072: DtypeWarning: Columns (1) have mixed types.Specify dtype option on import or set low_memory=False.\n",
      "  interactivity=interactivity, compiler=compiler, result=result)\n"
     ]
    }
   ],
   "source": [
    "EFFY = pd.read_csv(path2[0])\n",
    "EFFY_descp = pd.read_excel(path2[1],engine='openpyxl')"
   ]
  },
  {
   "cell_type": "code",
   "execution_count": 33,
   "id": "d3273e27-cfe8-4e0a-88ef-9ce88de0a892",
   "metadata": {},
   "outputs": [],
   "source": [
    "column_EAP = ['year','unitid','eapcat','facstat','eaptot']"
   ]
  },
  {
   "cell_type": "code",
   "execution_count": 34,
   "id": "5425c7dd-c390-4616-afe9-0dd26aac5929",
   "metadata": {},
   "outputs": [],
   "source": [
    "df_EAP = EAP[column_EAP]\n",
    "df_EAP = df_EAP[(df_EAP.facstat == 'All staff') & (df_EAP.eapcat == 'All staff')].reset_index(drop = True)"
   ]
  },
  {
   "cell_type": "code",
   "execution_count": 35,
   "id": "fa9c7162-3b1f-4cf1-a99d-99f75d98d2a4",
   "metadata": {},
   "outputs": [
    {
     "data": {
      "text/plain": [
       "(39605, 5)"
      ]
     },
     "execution_count": 35,
     "metadata": {},
     "output_type": "execute_result"
    }
   ],
   "source": [
    "df_EAP.shape"
   ]
  },
  {
   "cell_type": "code",
   "execution_count": 32,
   "id": "984db901-cc75-419a-87bd-0617611ee5b3",
   "metadata": {},
   "outputs": [
    {
     "data": {
      "text/html": [
       "<div>\n",
       "<style scoped>\n",
       "    .dataframe tbody tr th:only-of-type {\n",
       "        vertical-align: middle;\n",
       "    }\n",
       "\n",
       "    .dataframe tbody tr th {\n",
       "        vertical-align: top;\n",
       "    }\n",
       "\n",
       "    .dataframe thead th {\n",
       "        text-align: right;\n",
       "    }\n",
       "</style>\n",
       "<table border=\"1\" class=\"dataframe\">\n",
       "  <thead>\n",
       "    <tr style=\"text-align: right;\">\n",
       "      <th></th>\n",
       "      <th>year</th>\n",
       "      <th>unitid</th>\n",
       "      <th>facstat</th>\n",
       "      <th>eaptot</th>\n",
       "    </tr>\n",
       "  </thead>\n",
       "  <tbody>\n",
       "    <tr>\n",
       "      <th>0</th>\n",
       "      <td>2020</td>\n",
       "      <td>100654</td>\n",
       "      <td>All staff</td>\n",
       "      <td>918</td>\n",
       "    </tr>\n",
       "    <tr>\n",
       "      <th>1</th>\n",
       "      <td>2020</td>\n",
       "      <td>100654</td>\n",
       "      <td>All staff</td>\n",
       "      <td>372</td>\n",
       "    </tr>\n",
       "    <tr>\n",
       "      <th>2</th>\n",
       "      <td>2020</td>\n",
       "      <td>100654</td>\n",
       "      <td>All staff</td>\n",
       "      <td>363</td>\n",
       "    </tr>\n",
       "    <tr>\n",
       "      <th>3</th>\n",
       "      <td>2020</td>\n",
       "      <td>100654</td>\n",
       "      <td>All staff</td>\n",
       "      <td>349</td>\n",
       "    </tr>\n",
       "    <tr>\n",
       "      <th>4</th>\n",
       "      <td>2020</td>\n",
       "      <td>100654</td>\n",
       "      <td>All staff</td>\n",
       "      <td>349</td>\n",
       "    </tr>\n",
       "  </tbody>\n",
       "</table>\n",
       "</div>"
      ],
      "text/plain": [
       "   year  unitid    facstat  eaptot\n",
       "0  2020  100654  All staff     918\n",
       "1  2020  100654  All staff     372\n",
       "2  2020  100654  All staff     363\n",
       "3  2020  100654  All staff     349\n",
       "4  2020  100654  All staff     349"
      ]
     },
     "execution_count": 32,
     "metadata": {},
     "output_type": "execute_result"
    }
   ],
   "source": [
    "df_EAP.head()"
   ]
  },
  {
   "cell_type": "code",
   "execution_count": 13,
   "id": "59b01c7a-c55e-466e-850a-fd2e648e19f1",
   "metadata": {},
   "outputs": [],
   "source": [
    "column_EFFY = ['year','unitid','effylev','efytotlt']"
   ]
  },
  {
   "cell_type": "code",
   "execution_count": 16,
   "id": "75c091f2-6c67-4026-bd5c-e8a277990491",
   "metadata": {},
   "outputs": [],
   "source": [
    "df_EFFY = EFFY[column_EFFY]\n",
    "df_EFFY = df_EFFY[df_EFFY.effylev == 'All students total'].reset_index(drop = True)"
   ]
  },
  {
   "cell_type": "code",
   "execution_count": 17,
   "id": "0d11b019-2301-4705-ba76-05de91c581a8",
   "metadata": {},
   "outputs": [
    {
     "data": {
      "text/plain": [
       "(46146, 4)"
      ]
     },
     "execution_count": 17,
     "metadata": {},
     "output_type": "execute_result"
    }
   ],
   "source": [
    "df_EFFY.shape"
   ]
  },
  {
   "cell_type": "code",
   "execution_count": 25,
   "id": "f10b02c0-c7e5-4e1b-af42-de82b6e8dd3a",
   "metadata": {},
   "outputs": [
    {
     "name": "stdout",
     "output_type": "stream",
     "text": [
      "Enroll: 7880, stuff: 7787, intersection: 7707\n"
     ]
    }
   ],
   "source": [
    "enroll_school = set(df_EFFY.unitid)\n",
    "stuff_school = set(df_EAP.unitid)\n",
    "inters = enroll_school & stuff_school\n",
    "print(f'Enroll: {len(enroll_school)}, stuff: {len(stuff_school)}, intersection: {len(inters)}')"
   ]
  },
  {
   "cell_type": "code",
   "execution_count": 27,
   "id": "aa0696e9-17ed-4fb4-84a0-7bb22737397e",
   "metadata": {},
   "outputs": [
    {
     "name": "stdout",
     "output_type": "stream",
     "text": [
      "[2015 2016 2017 2018 2019 2020 2021]\n",
      "[2015 2016 2017 2018 2019 2020]\n"
     ]
    }
   ],
   "source": [
    "import numpy as np\n",
    "print(np.unique(df_EFFY.year))\n",
    "print(np.unique(df_EAP.year))"
   ]
  },
  {
   "cell_type": "code",
   "execution_count": 36,
   "id": "aef58c80-28e6-48cd-8be4-d22873430780",
   "metadata": {},
   "outputs": [],
   "source": [
    "df_join = pd.merge(df_EAP, df_EFFY, how = 'inner',left_on=['year','unitid'], right_on = ['year','unitid'])"
   ]
  },
  {
   "cell_type": "code",
   "execution_count": 42,
   "id": "bfff1715-11a0-4c80-871f-edbe65c37b75",
   "metadata": {},
   "outputs": [
    {
     "name": "stderr",
     "output_type": "stream",
     "text": [
      "C:\\Users\\cb102\\anaconda3\\envs\\ML\\lib\\site-packages\\ipykernel_launcher.py:3: SettingWithCopyWarning: \n",
      "A value is trying to be set on a copy of a slice from a DataFrame.\n",
      "Try using .loc[row_indexer,col_indexer] = value instead\n",
      "\n",
      "See the caveats in the documentation: https://pandas.pydata.org/pandas-docs/stable/user_guide/indexing.html#returning-a-view-versus-a-copy\n",
      "  This is separate from the ipykernel package so we can avoid doing imports until\n"
     ]
    }
   ],
   "source": [
    "df_eps = df_join[['year','unitid','eaptot','efytotlt']]\n",
    "df_eps.columns = ['year','unitid','total_employee','enrolled_students']\n",
    "df_eps['employee_per_student'] = df_eps.total_employee/df_eps.enrolled_students"
   ]
  },
  {
   "cell_type": "code",
   "execution_count": 92,
   "id": "e3276333-4786-48f3-b351-b809a9237dd7",
   "metadata": {},
   "outputs": [],
   "source": [
    "df_eps = df_eps[['year','unitid','employee_per_student']]"
   ]
  },
  {
   "cell_type": "markdown",
   "id": "b4d058b7-7e9a-45db-8ab6-a87f7ede0832",
   "metadata": {},
   "source": [
    "## Stuff-wise"
   ]
  },
  {
   "cell_type": "code",
   "execution_count": 46,
   "id": "f6c408c4-62e3-4e14-85a7-348379f0403c",
   "metadata": {},
   "outputs": [
    {
     "data": {
      "text/plain": [
       "array(['All staff', 'Archivists, Curators, and Museum Technicians',\n",
       "       'Business and Financial Operations',\n",
       "       'Community Social Service, Legal, Arts, Design, Entertainment, Sports and Media',\n",
       "       'Computer, Engineering, and Science',\n",
       "       'Detailed library occupations not available for non-degree-granting institutions',\n",
       "       'Graduate Assistants', 'Graduate Assistants  other',\n",
       "       'Graduate Assistants Business and Financial Operations Occupations',\n",
       "       'Graduate Assistants Community Social Service, Legal, Arts, Design, Entertainment, Sports and Media',\n",
       "       'Graduate Assistants Computer, Engineering, and Science Occupations',\n",
       "       'Graduate Assistants Healthcare Practioners and Technical',\n",
       "       'Graduate Assistants Management Occupations',\n",
       "       'Graduate Assistants Research', 'Graduate Assistants Teaching',\n",
       "       'Graduate Assistants Total',\n",
       "       'Healthcare Practioners and Technical',\n",
       "       'Instructional staff - Instruction/research/public service',\n",
       "       'Instructional staff, primarily instruction',\n",
       "       'Instructional staff, primarily instruction, combined credit/not-for-credit',\n",
       "       'Instructional staff, primarily instruction, exclusively credit',\n",
       "       'Instructional staff, primarily instruction, exclusively not-for-credit',\n",
       "       'Instructional staff, total',\n",
       "       'Instructional, research and public service staff', 'Librarians',\n",
       "       'Librarians, Curators, and Archivists',\n",
       "       'Librarians/Library Technicians/Archivists and Curators, and Museum technicians/Student and Academic Affairs and Other Eduation Services',\n",
       "       'Librarians/Library Technicians/Archivists and Curators, and Museum technicians/Student and Academic Affairs and Other Education Services',\n",
       "       'Library Technicians',\n",
       "       'Library and Student and Academic Affairs and Other Education Services',\n",
       "       'Management', 'Natural Resources, Construction, and Maintenance',\n",
       "       'Office and Administrative Support',\n",
       "       'Production, Transportation, and Material Moving',\n",
       "       'Public service', 'Research', 'Sales and Related Occupations',\n",
       "       'Service Occupations',\n",
       "       'Student and Academic Affairs and Other Education Services'],\n",
       "      dtype=object)"
      ]
     },
     "execution_count": 46,
     "metadata": {},
     "output_type": "execute_result"
    }
   ],
   "source": [
    "np.unique(EAP.occupcat)"
   ]
  },
  {
   "cell_type": "code",
   "execution_count": 82,
   "id": "5a3a0759-ecab-4143-9fdd-c77feea9f3d3",
   "metadata": {},
   "outputs": [],
   "source": [
    "df_EAP2 = EAP[column_EAP]\n",
    "df_EAP2 = df_EAP2[(df_EAP2.eapcat == 'Research') | (df_EAP2.eapcat == 'All staff') | (df_EAP2.eapcat == 'Instructional staff, total')].reset_index(drop = True)"
   ]
  },
  {
   "cell_type": "code",
   "execution_count": 80,
   "id": "c889b75c-37d7-4a56-b240-98a31fba0b10",
   "metadata": {},
   "outputs": [
    {
     "data": {
      "text/html": [
       "<div>\n",
       "<style scoped>\n",
       "    .dataframe tbody tr th:only-of-type {\n",
       "        vertical-align: middle;\n",
       "    }\n",
       "\n",
       "    .dataframe tbody tr th {\n",
       "        vertical-align: top;\n",
       "    }\n",
       "\n",
       "    .dataframe thead th {\n",
       "        text-align: right;\n",
       "    }\n",
       "</style>\n",
       "<table border=\"1\" class=\"dataframe\">\n",
       "  <thead>\n",
       "    <tr style=\"text-align: right;\">\n",
       "      <th></th>\n",
       "      <th>year</th>\n",
       "      <th>unitid</th>\n",
       "      <th>eapcat</th>\n",
       "      <th>facstat</th>\n",
       "      <th>eaptot</th>\n",
       "    </tr>\n",
       "  </thead>\n",
       "  <tbody>\n",
       "    <tr>\n",
       "      <th>0</th>\n",
       "      <td>2020</td>\n",
       "      <td>100654</td>\n",
       "      <td>All staff</td>\n",
       "      <td>All staff</td>\n",
       "      <td>918</td>\n",
       "    </tr>\n",
       "    <tr>\n",
       "      <th>1</th>\n",
       "      <td>2020</td>\n",
       "      <td>100654</td>\n",
       "      <td>Instructional staff - Instruction/research/pub...</td>\n",
       "      <td>All staff</td>\n",
       "      <td>14</td>\n",
       "    </tr>\n",
       "    <tr>\n",
       "      <th>2</th>\n",
       "      <td>2020</td>\n",
       "      <td>100654</td>\n",
       "      <td>Research</td>\n",
       "      <td>All staff</td>\n",
       "      <td>9</td>\n",
       "    </tr>\n",
       "    <tr>\n",
       "      <th>3</th>\n",
       "      <td>2020</td>\n",
       "      <td>100663</td>\n",
       "      <td>All staff</td>\n",
       "      <td>All staff</td>\n",
       "      <td>10093</td>\n",
       "    </tr>\n",
       "    <tr>\n",
       "      <th>4</th>\n",
       "      <td>2020</td>\n",
       "      <td>100663</td>\n",
       "      <td>Instructional staff - Instruction/research/pub...</td>\n",
       "      <td>All staff</td>\n",
       "      <td>2958</td>\n",
       "    </tr>\n",
       "  </tbody>\n",
       "</table>\n",
       "</div>"
      ],
      "text/plain": [
       "   year  unitid                                             eapcat    facstat  \\\n",
       "0  2020  100654                                          All staff  All staff   \n",
       "1  2020  100654  Instructional staff - Instruction/research/pub...  All staff   \n",
       "2  2020  100654                                           Research  All staff   \n",
       "3  2020  100663                                          All staff  All staff   \n",
       "4  2020  100663  Instructional staff - Instruction/research/pub...  All staff   \n",
       "\n",
       "   eaptot  \n",
       "0     918  \n",
       "1      14  \n",
       "2       9  \n",
       "3   10093  \n",
       "4    2958  "
      ]
     },
     "execution_count": 80,
     "metadata": {},
     "output_type": "execute_result"
    }
   ],
   "source": [
    "df_EAP2.head()"
   ]
  },
  {
   "cell_type": "code",
   "execution_count": 86,
   "id": "3d42015a-de85-481f-a0d2-6f97e091a581",
   "metadata": {},
   "outputs": [],
   "source": [
    "df_2 = pd.pivot_table(df_EAP2, values='eaptot', index=['year', 'unitid'],\n",
    "                    columns=['eapcat'], aggfunc=np.sum).reset_index().fillna(0)\n",
    "df_2['researcher_prop'] = df_2.Research/df_2['Instructional staff, total']\n",
    "df_2['instructor_prop'] = df_2['Instructional staff, total']/df_2['All staff']\n",
    "# df_2['researcher_prop'] = df_2.Research/df_2['All staff']\n",
    "# df_2"
   ]
  },
  {
   "cell_type": "code",
   "execution_count": 88,
   "id": "33de8527-b7d9-4550-a86e-03a9c89b16f0",
   "metadata": {},
   "outputs": [],
   "source": [
    "df_2 = df_2[['year','unitid','All staff','researcher_prop','instructor_prop']]"
   ]
  },
  {
   "cell_type": "code",
   "execution_count": 89,
   "id": "6d2c3ff1-d86b-4a1d-8e3c-64806f408d5f",
   "metadata": {},
   "outputs": [
    {
     "data": {
      "text/plain": [
       "(39605, 5)"
      ]
     },
     "execution_count": 89,
     "metadata": {},
     "output_type": "execute_result"
    }
   ],
   "source": [
    "df_2.shape"
   ]
  },
  {
   "cell_type": "code",
   "execution_count": 99,
   "id": "195e26cc-ddf5-4c80-aad1-5571a4957467",
   "metadata": {},
   "outputs": [],
   "source": [
    "df_staff = pd.merge(df_eps,df_2,how = 'inner',left_on = ['year','unitid'], right_on = ['year','unitid'])"
   ]
  },
  {
   "cell_type": "code",
   "execution_count": 100,
   "id": "88b7b067-8ec4-4c7f-9e75-ac8abef610c5",
   "metadata": {},
   "outputs": [
    {
     "data": {
      "text/plain": [
       "(39118, 6)"
      ]
     },
     "execution_count": 100,
     "metadata": {},
     "output_type": "execute_result"
    }
   ],
   "source": [
    "df_staff.shape"
   ]
  },
  {
   "cell_type": "code",
   "execution_count": 102,
   "id": "287e7080-39b5-4d23-842b-faf051d2bd46",
   "metadata": {},
   "outputs": [],
   "source": [
    "df_staff.to_csv('df_staff.csv',index = False)"
   ]
  }
 ],
 "metadata": {
  "kernelspec": {
   "display_name": "ML",
   "language": "python",
   "name": "ml"
  },
  "language_info": {
   "codemirror_mode": {
    "name": "ipython",
    "version": 3
   },
   "file_extension": ".py",
   "mimetype": "text/x-python",
   "name": "python",
   "nbconvert_exporter": "python",
   "pygments_lexer": "ipython3",
   "version": "3.6.13"
  }
 },
 "nbformat": 4,
 "nbformat_minor": 5
}
