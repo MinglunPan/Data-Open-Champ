{
 "cells": [
  {
   "cell_type": "code",
   "execution_count": 1,
   "id": "7d55b644-fcb8-4ea7-9572-c3a9f0c1e8c1",
   "metadata": {},
   "outputs": [],
   "source": [
    "import os\n",
    "_dir = 'Academic Libraries/'\n",
    "path = [_dir + d for d in os.listdir(_dir)]"
   ]
  },
  {
   "cell_type": "code",
   "execution_count": 3,
   "id": "b32f2f55-66e9-4373-b698-a0f450def162",
   "metadata": {},
   "outputs": [
    {
     "name": "stderr",
     "output_type": "stream",
     "text": [
      "C:\\Users\\cb102\\anaconda3\\envs\\ML\\lib\\site-packages\\IPython\\core\\interactiveshell.py:3072: DtypeWarning: Columns (1,17,18,19,37,38) have mixed types.Specify dtype option on import or set low_memory=False.\n",
      "  interactivity=interactivity, compiler=compiler, result=result)\n"
     ]
    }
   ],
   "source": [
    "import pandas as pd\n",
    "import numpy as np\n",
    "AL = pd.read_csv(path[0])\n",
    "AL_descp = pd.read_excel(path[1],engine='openpyxl')"
   ]
  },
  {
   "cell_type": "code",
   "execution_count": 4,
   "id": "02cda505-6262-4206-9563-aae33a2bb8bc",
   "metadata": {},
   "outputs": [],
   "source": [
    "column_of_interest = ['Were annual total library expenses greater than or equal to $100,000','Total physical library collections (books, media and serials)',\n",
    "                      'Total library collections (physical and electronic)']"
   ]
  },
  {
   "cell_type": "code",
   "execution_count": 5,
   "id": "5a8f78f9-a6e7-4624-bd32-586005061ec2",
   "metadata": {},
   "outputs": [],
   "source": [
    "id_of_interest = [AL_descp.loc[AL_descp.shortDescription == name,'varname'].iloc[0].lower() for name in column_of_interest] "
   ]
  },
  {
   "cell_type": "code",
   "execution_count": 6,
   "id": "c01754bd-df42-4fd1-9462-4685242c7ba4",
   "metadata": {},
   "outputs": [],
   "source": [
    "df_AL = AL[['year','unitid'] + id_of_interest]"
   ]
  },
  {
   "cell_type": "code",
   "execution_count": 7,
   "id": "a530c308-b0ef-4c97-9fcd-3dfbfa077f99",
   "metadata": {},
   "outputs": [
    {
     "data": {
      "text/html": [
       "<div>\n",
       "<style scoped>\n",
       "    .dataframe tbody tr th:only-of-type {\n",
       "        vertical-align: middle;\n",
       "    }\n",
       "\n",
       "    .dataframe tbody tr th {\n",
       "        vertical-align: top;\n",
       "    }\n",
       "\n",
       "    .dataframe thead th {\n",
       "        text-align: right;\n",
       "    }\n",
       "</style>\n",
       "<table border=\"1\" class=\"dataframe\">\n",
       "  <thead>\n",
       "    <tr style=\"text-align: right;\">\n",
       "      <th></th>\n",
       "      <th>year</th>\n",
       "      <th>unitid</th>\n",
       "      <th>lexp100k</th>\n",
       "      <th>lpcllct</th>\n",
       "      <th>ltcllct</th>\n",
       "    </tr>\n",
       "  </thead>\n",
       "  <tbody>\n",
       "    <tr>\n",
       "      <th>0</th>\n",
       "      <td>2020</td>\n",
       "      <td>100654</td>\n",
       "      <td>Greater than or equal to $100,000</td>\n",
       "      <td>429850.0</td>\n",
       "      <td>754409</td>\n",
       "    </tr>\n",
       "    <tr>\n",
       "      <th>1</th>\n",
       "      <td>2020</td>\n",
       "      <td>100663</td>\n",
       "      <td>Greater than or equal to $100,000</td>\n",
       "      <td>1099762.0</td>\n",
       "      <td>1733107</td>\n",
       "    </tr>\n",
       "    <tr>\n",
       "      <th>2</th>\n",
       "      <td>2020</td>\n",
       "      <td>100690</td>\n",
       "      <td>Greater than or equal to $100,000</td>\n",
       "      <td>51943.0</td>\n",
       "      <td>52185</td>\n",
       "    </tr>\n",
       "    <tr>\n",
       "      <th>3</th>\n",
       "      <td>2020</td>\n",
       "      <td>100706</td>\n",
       "      <td>Greater than or equal to $100,000</td>\n",
       "      <td>219735.0</td>\n",
       "      <td>905444</td>\n",
       "    </tr>\n",
       "    <tr>\n",
       "      <th>4</th>\n",
       "      <td>2020</td>\n",
       "      <td>100724</td>\n",
       "      <td>Greater than or equal to $100,000</td>\n",
       "      <td>357107.0</td>\n",
       "      <td>433694</td>\n",
       "    </tr>\n",
       "  </tbody>\n",
       "</table>\n",
       "</div>"
      ],
      "text/plain": [
       "   year  unitid                           lexp100k    lpcllct  ltcllct\n",
       "0  2020  100654  Greater than or equal to $100,000   429850.0   754409\n",
       "1  2020  100663  Greater than or equal to $100,000  1099762.0  1733107\n",
       "2  2020  100690  Greater than or equal to $100,000    51943.0    52185\n",
       "3  2020  100706  Greater than or equal to $100,000   219735.0   905444\n",
       "4  2020  100724  Greater than or equal to $100,000   357107.0   433694"
      ]
     },
     "execution_count": 7,
     "metadata": {},
     "output_type": "execute_result"
    }
   ],
   "source": [
    "df_AL.head()"
   ]
  },
  {
   "cell_type": "code",
   "execution_count": 8,
   "id": "e624198d-0317-45d2-bc36-a92b33f46e8b",
   "metadata": {},
   "outputs": [],
   "source": [
    "m = {'Greater than or equal to $100,000' : 'Yes',\n",
    "     'Less than $100,000': 'No'}"
   ]
  },
  {
   "cell_type": "code",
   "execution_count": 9,
   "id": "4cbf017b-d883-42ac-bbba-8f4327e98166",
   "metadata": {},
   "outputs": [
    {
     "name": "stderr",
     "output_type": "stream",
     "text": [
      "C:\\Users\\cb102\\anaconda3\\envs\\ML\\lib\\site-packages\\ipykernel_launcher.py:1: SettingWithCopyWarning: \n",
      "A value is trying to be set on a copy of a slice from a DataFrame.\n",
      "Try using .loc[row_indexer,col_indexer] = value instead\n",
      "\n",
      "See the caveats in the documentation: https://pandas.pydata.org/pandas-docs/stable/user_guide/indexing.html#returning-a-view-versus-a-copy\n",
      "  \"\"\"Entry point for launching an IPython kernel.\n"
     ]
    }
   ],
   "source": [
    "df_AL['library_expense'] = df_AL.lexp100k.map(m)"
   ]
  },
  {
   "cell_type": "code",
   "execution_count": 17,
   "id": "25e90f5c-6698-4084-ae29-75c143c0695b",
   "metadata": {},
   "outputs": [
    {
     "name": "stderr",
     "output_type": "stream",
     "text": [
      "C:\\Users\\cb102\\anaconda3\\envs\\ML\\lib\\site-packages\\ipykernel_launcher.py:1: SettingWithCopyWarning: \n",
      "A value is trying to be set on a copy of a slice from a DataFrame.\n",
      "Try using .loc[row_indexer,col_indexer] = value instead\n",
      "\n",
      "See the caveats in the documentation: https://pandas.pydata.org/pandas-docs/stable/user_guide/indexing.html#returning-a-view-versus-a-copy\n",
      "  \"\"\"Entry point for launching an IPython kernel.\n"
     ]
    }
   ],
   "source": [
    "df_AL['library_expense'] = df_AL['library_expense'].replace(np.nan,'Not Applicable')"
   ]
  },
  {
   "cell_type": "code",
   "execution_count": 19,
   "id": "8d12b5e7-d0a2-442a-989a-a2aa084c6026",
   "metadata": {},
   "outputs": [],
   "source": [
    "df_AL = df_AL[['year','unitid','ltcllct','library_expense']]\n",
    "df_AL.columns = ['year','unitid','total_num_collections','expense']"
   ]
  },
  {
   "cell_type": "code",
   "execution_count": 21,
   "id": "08ecf10d-82de-4244-ba6f-792397d68906",
   "metadata": {},
   "outputs": [],
   "source": [
    "df_AL.to_csv('df_AC.csv',index = False)"
   ]
  },
  {
   "cell_type": "code",
   "execution_count": 33,
   "id": "894a6217-2f0a-46ef-8308-07db20a6126d",
   "metadata": {},
   "outputs": [
    {
     "data": {
      "text/plain": [
       "(array([1.759e+03, 3.400e+01, 1.900e+01, 1.000e+01, 5.000e+00, 3.000e+00,\n",
       "        0.000e+00, 2.000e+00, 0.000e+00, 0.000e+00, 0.000e+00, 0.000e+00,\n",
       "        0.000e+00, 0.000e+00, 0.000e+00, 0.000e+00, 0.000e+00, 0.000e+00,\n",
       "        0.000e+00, 0.000e+00, 2.000e+00, 0.000e+00, 0.000e+00, 0.000e+00,\n",
       "        0.000e+00, 1.000e+00, 0.000e+00, 0.000e+00, 0.000e+00, 0.000e+00,\n",
       "        1.000e+00, 0.000e+00, 0.000e+00, 0.000e+00, 0.000e+00, 0.000e+00,\n",
       "        0.000e+00, 0.000e+00, 0.000e+00, 0.000e+00, 0.000e+00, 0.000e+00,\n",
       "        0.000e+00, 0.000e+00, 0.000e+00, 0.000e+00, 1.000e+00, 0.000e+00,\n",
       "        0.000e+00, 0.000e+00, 0.000e+00, 0.000e+00, 0.000e+00, 0.000e+00,\n",
       "        0.000e+00, 0.000e+00, 0.000e+00, 0.000e+00, 0.000e+00, 0.000e+00,\n",
       "        0.000e+00, 0.000e+00, 0.000e+00, 0.000e+00, 0.000e+00, 0.000e+00,\n",
       "        0.000e+00, 0.000e+00, 0.000e+00, 0.000e+00, 0.000e+00, 0.000e+00,\n",
       "        0.000e+00, 0.000e+00, 0.000e+00, 0.000e+00, 0.000e+00, 0.000e+00,\n",
       "        0.000e+00, 0.000e+00, 0.000e+00, 0.000e+00, 0.000e+00, 0.000e+00,\n",
       "        0.000e+00, 0.000e+00, 0.000e+00, 0.000e+00, 0.000e+00, 0.000e+00,\n",
       "        0.000e+00, 0.000e+00, 0.000e+00, 0.000e+00, 0.000e+00, 0.000e+00,\n",
       "        0.000e+00, 0.000e+00, 0.000e+00, 1.000e+00]),\n",
       " array([1.00000000e+00, 5.33101910e+05, 1.06620282e+06, 1.59930373e+06,\n",
       "        2.13240464e+06, 2.66550555e+06, 3.19860646e+06, 3.73170737e+06,\n",
       "        4.26480828e+06, 4.79790919e+06, 5.33101010e+06, 5.86411101e+06,\n",
       "        6.39721192e+06, 6.93031283e+06, 7.46341374e+06, 7.99651465e+06,\n",
       "        8.52961556e+06, 9.06271647e+06, 9.59581738e+06, 1.01289183e+07,\n",
       "        1.06620192e+07, 1.11951201e+07, 1.17282210e+07, 1.22613219e+07,\n",
       "        1.27944228e+07, 1.33275238e+07, 1.38606247e+07, 1.43937256e+07,\n",
       "        1.49268265e+07, 1.54599274e+07, 1.59930283e+07, 1.65261292e+07,\n",
       "        1.70592301e+07, 1.75923310e+07, 1.81254319e+07, 1.86585329e+07,\n",
       "        1.91916338e+07, 1.97247347e+07, 2.02578356e+07, 2.07909365e+07,\n",
       "        2.13240374e+07, 2.18571383e+07, 2.23902392e+07, 2.29233401e+07,\n",
       "        2.34564410e+07, 2.39895420e+07, 2.45226429e+07, 2.50557438e+07,\n",
       "        2.55888447e+07, 2.61219456e+07, 2.66550465e+07, 2.71881474e+07,\n",
       "        2.77212483e+07, 2.82543492e+07, 2.87874501e+07, 2.93205511e+07,\n",
       "        2.98536520e+07, 3.03867529e+07, 3.09198538e+07, 3.14529547e+07,\n",
       "        3.19860556e+07, 3.25191565e+07, 3.30522574e+07, 3.35853583e+07,\n",
       "        3.41184592e+07, 3.46515601e+07, 3.51846611e+07, 3.57177620e+07,\n",
       "        3.62508629e+07, 3.67839638e+07, 3.73170647e+07, 3.78501656e+07,\n",
       "        3.83832665e+07, 3.89163674e+07, 3.94494683e+07, 3.99825692e+07,\n",
       "        4.05156702e+07, 4.10487711e+07, 4.15818720e+07, 4.21149729e+07,\n",
       "        4.26480738e+07, 4.31811747e+07, 4.37142756e+07, 4.42473765e+07,\n",
       "        4.47804774e+07, 4.53135784e+07, 4.58466793e+07, 4.63797802e+07,\n",
       "        4.69128811e+07, 4.74459820e+07, 4.79790829e+07, 4.85121838e+07,\n",
       "        4.90452847e+07, 4.95783856e+07, 5.01114865e+07, 5.06445875e+07,\n",
       "        5.11776884e+07, 5.17107893e+07, 5.22438902e+07, 5.27769911e+07,\n",
       "        5.33100920e+07]),\n",
       " <a list of 100 Patch objects>)"
      ]
     },
     "execution_count": 33,
     "metadata": {},
     "output_type": "execute_result"
    },
    {
     "data": {
      "image/png": "[encoded data removed]",
      "text/plain": [
       "<Figure size 432x288 with 1 Axes>"
      ]
     },
     "metadata": {
      "needs_background": "light"
     },
     "output_type": "display_data"
    }
   ],
   "source": [
    "no = df_AL[df_AL.expense == 'No']['total_num_collections']\n"
   ]
  }
 ],
 "metadata": {
  "kernelspec": {
   "display_name": "ML",
   "language": "python",
   "name": "ml"
  },
  "language_info": {
   "codemirror_mode": {
    "name": "ipython",
    "version": 3
   },
   "file_extension": ".py",
   "mimetype": "text/x-python",
   "name": "python",
   "nbconvert_exporter": "python",
   "pygments_lexer": "ipython3",
   "version": "3.6.13"
  }
 },
 "nbformat": 4,
 "nbformat_minor": 5
}
