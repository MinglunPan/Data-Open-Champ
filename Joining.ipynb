{
 "cells": [
  {
   "cell_type": "code",
   "execution_count": 1,
   "id": "31b58177-3965-4697-a959-ae1e1a642c83",
   "metadata": {},
   "outputs": [],
   "source": [
    "import pandas as pd"
   ]
  },
  {
   "cell_type": "code",
   "execution_count": 88,
   "id": "ea32bffe-4590-41fa-b54c-edefaeb25e77",
   "metadata": {},
   "outputs": [],
   "source": [
    "df_AC = pd.read_csv('df_AC.csv')\n",
    "df_funding = pd.read_csv('df_funding.csv')\n",
    "df_staff = pd.read_csv('df_staff.csv')"
   ]
  },
  {
   "cell_type": "code",
   "execution_count": 89,
   "id": "87bd31d5-2262-41a5-9d29-9e335857f1a0",
   "metadata": {},
   "outputs": [],
   "source": [
    "df_admission = pd.read_csv('admission.csv')\n",
    "df_diversity = pd.read_csv('diversity_faid.csv')\n",
    "df_program = pd.read_csv('program.csv')\n",
    "finance = pd.read_csv('finance_combined.csv')\n",
    "finance = finance[['unitid','year','inc. tot assets',\"margin. tuition\",'debt-asset-ratio',\"turnover rate. assets\"]]"
   ]
  },
  {
   "cell_type": "code",
   "execution_count": 99,
   "id": "05e6e3e4-3e14-42d4-a2e0-de131b044ed1",
   "metadata": {},
   "outputs": [],
   "source": [
    "finance.to_csv('Processed Data/finance.csv',index = False)"
   ]
  },
  {
   "cell_type": "code",
   "execution_count": 90,
   "id": "7467f34b-d6e4-4170-8ef1-ea88eea644bd",
   "metadata": {},
   "outputs": [],
   "source": [
    "df_funding['year'] = df_funding['year']//100+2001"
   ]
  },
  {
   "cell_type": "code",
   "execution_count": 98,
   "id": "6673c58e-0879-4ce6-90d7-426370910a3e",
   "metadata": {},
   "outputs": [],
   "source": [
    "df_funding.to_csv('Processed Data/df_funding.csv',index = False)"
   ]
  },
  {
   "cell_type": "code",
   "execution_count": 80,
   "id": "7bc510bf-f5c3-4bd9-8bad-671b6fd3e937",
   "metadata": {},
   "outputs": [
    {
     "name": "stdout",
     "output_type": "stream",
     "text": [
      "4606\n",
      "7698\n",
      "7411\n",
      "2470\n",
      "7812\n",
      "7855\n",
      "4022\n",
      "----------------------------------------\n",
      "1854\n"
     ]
    }
   ],
   "source": [
    "import numpy as np\n",
    "print(len(np.unique(df_AC.unitid)))\n",
    "print(len(np.unique(df_staff.unitid)))\n",
    "print(len(np.unique(df_funding.unitid)))\n",
    "print(len(np.unique(df_admission.unitid)))\n",
    "print(len(np.unique(df_diversity.unitid)))\n",
    "print(len(np.unique(df_program.unitid)))\n",
    "print(len(np.unique(finance.unitid)))\n",
    "\n",
    "AC_id = set(df_AC.unitid)\n",
    "staff_id = set(df_staff.unitid)\n",
    "funding_id = set(df_funding.unitid)\n",
    "admission_id = set(df_admission.unitid)\n",
    "diversity_id = set(df_diversity.unitid)\n",
    "program_id = set(df_program.unitid)\n",
    "finance_id = set(finance.unitid)\n",
    "print('-'*40)\n",
    "print(len(AC_id & staff_id & funding_id & admission_id & diversity_id & program_id & finance_id))"
   ]
  },
  {
   "cell_type": "code",
   "execution_count": 81,
   "id": "ad363ae5-033c-444d-86d9-bbf622651da4",
   "metadata": {},
   "outputs": [
    {
     "name": "stdout",
     "output_type": "stream",
     "text": [
      "4022\n"
     ]
    }
   ],
   "source": [
    "print(len(funding_id & finance_id))"
   ]
  },
  {
   "cell_type": "code",
   "execution_count": 92,
   "id": "2f3af8a2-b1ae-45c6-a19b-b3817e240b01",
   "metadata": {},
   "outputs": [],
   "source": [
    "df_1_inner = pd.merge(df_AC, finance, how = 'inner', left_on = ['unitid','year'],right_on = ['unitid','year'])\n",
    "df_2_inner = pd.merge(df_1_inner, df_AC, how = 'inner', left_on = ['unitid','year'],right_on = ['unitid','year'])\n",
    "df_3_inner = pd.merge(df_2_inner, df_funding, how = 'inner', left_on = ['unitid','year'],right_on = ['unitid','year'])\n",
    "df_4_inner = pd.merge(df_3_inner, df_admission, how = 'inner', left_on = ['unitid','year'],right_on = ['unitid','year'])\n",
    "df_5_inner = pd.merge(df_4_inner, df_diversity, how = 'inner', left_on = ['unitid','year'],right_on = ['unitid','year'])\n",
    "df_final_inner = pd.merge(df_5_inner, df_program, how = 'inner', left_on = ['unitid','year'],right_on = ['unitid','year'])"
   ]
  },
  {
   "cell_type": "code",
   "execution_count": 93,
   "id": "82d080c2-8b76-45f3-b06f-8a4e0bf37c53",
   "metadata": {},
   "outputs": [
    {
     "data": {
      "text/plain": [
       "(8358, 26)"
      ]
     },
     "execution_count": 93,
     "metadata": {},
     "output_type": "execute_result"
    }
   ],
   "source": [
    "df_final_inner.shape"
   ]
  },
  {
   "cell_type": "code",
   "execution_count": 94,
   "id": "2e6c63eb-81b1-4606-b1bc-1a141eda0b80",
   "metadata": {},
   "outputs": [],
   "source": [
    "df_final_inner.to_csv('df_final_inner.csv',index = False)"
   ]
  },
  {
   "cell_type": "code",
   "execution_count": 95,
   "id": "4ef5bf10-1461-4dc0-b23d-f213ef810d2e",
   "metadata": {},
   "outputs": [],
   "source": [
    "df_1 = pd.merge(df_AC, finance, how = 'right', left_on = ['unitid','year'],right_on = ['unitid','year'])\n",
    "df_2 = pd.merge(df_1, df_AC, how = 'left', left_on = ['unitid','year'],right_on = ['unitid','year'])\n",
    "df_3 = pd.merge(df_2, df_funding, how = 'left', left_on = ['unitid','year'],right_on = ['unitid','year'])\n",
    "df_4 = pd.merge(df_3, df_admission, how = 'left', left_on = ['unitid','year'],right_on = ['unitid','year'])\n",
    "df_5 = pd.merge(df_4, df_diversity, how = 'left', left_on = ['unitid','year'],right_on = ['unitid','year'])\n",
    "df_final = pd.merge(df_5, df_program, how = 'left', left_on = ['unitid','year'],right_on = ['unitid','year'])"
   ]
  },
  {
   "cell_type": "code",
   "execution_count": 97,
   "id": "e3943f7c-d040-461c-abcc-49059ca364f3",
   "metadata": {},
   "outputs": [],
   "source": [
    "df_final.to_csv('df_final.csv', index = False)"
   ]
  },
  {
   "cell_type": "code",
   "execution_count": 96,
   "id": "80bf9786-4f1b-45f9-9e32-1c976300ef8a",
   "metadata": {},
   "outputs": [
    {
     "data": {
      "text/plain": [
       "(18430, 26)"
      ]
     },
     "execution_count": 96,
     "metadata": {},
     "output_type": "execute_result"
    }
   ],
   "source": [
    "df_final.shape"
   ]
  },
  {
   "cell_type": "code",
   "execution_count": 68,
   "id": "004a7ddb-0901-45e6-b1f0-1c080979e0a2",
   "metadata": {},
   "outputs": [
    {
     "data": {
      "text/plain": [
       "(18430, 26)"
      ]
     },
     "execution_count": 68,
     "metadata": {},
     "output_type": "execute_result"
    }
   ],
   "source": [
    "df_final.shape"
   ]
  },
  {
   "cell_type": "code",
   "execution_count": 59,
   "id": "e9304d9c-d3c7-4e0c-a1f4-0494b7395735",
   "metadata": {},
   "outputs": [],
   "source": [
    "df_final = pd.merge(df_full_outer, finance, how = 'outer', left_on = ['unitid','year'],right_on = ['unitid','year'])"
   ]
  },
  {
   "cell_type": "code",
   "execution_count": 61,
   "id": "cee437e7-2524-4a37-a2be-94dac8136653",
   "metadata": {},
   "outputs": [],
   "source": [
    "df_final.to_csv('df_final.csv',index = False)"
   ]
  },
  {
   "cell_type": "code",
   "execution_count": null,
   "id": "e37cd68c-02e0-4de5-bb38-c3a9cb7cdac0",
   "metadata": {},
   "outputs": [],
   "source": []
  }
 ],
 "metadata": {
  "kernelspec": {
   "display_name": "ML",
   "language": "python",
   "name": "ml"
  },
  "language_info": {
   "codemirror_mode": {
    "name": "ipython",
    "version": 3
   },
   "file_extension": ".py",
   "mimetype": "text/x-python",
   "name": "python",
   "nbconvert_exporter": "python",
   "pygments_lexer": "ipython3",
   "version": "3.6.13"
  }
 },
 "nbformat": 4,
 "nbformat_minor": 5
}
